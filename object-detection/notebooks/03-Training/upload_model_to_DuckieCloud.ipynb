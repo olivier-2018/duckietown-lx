{
 "cells": [
  {
   "cell_type": "code",
   "execution_count": 1,
   "metadata": {},
   "outputs": [],
   "source": [
    "# Use the environment from yolov5 as you need torch to read the model weights\n",
    "# !pip3 install dt-data-api-daffy\n",
    "import sys, os\n",
    "import torch\n",
    "from dt_data_api import DataClient, Storage"
   ]
  },
  {
   "cell_type": "code",
   "execution_count": 12,
   "metadata": {},
   "outputs": [],
   "source": [
    "# model info\n",
    "model_name = \"yolov5n_800imgs_100E_best\"\n",
    "# model_local_path = \"../../../DUCKIETOWN/yolov5_v7.0/runs/train/yolov5n_800imgs_100E/weights/best.pt\"\n",
    "model_local_path = \"../../assets/nn_models/yolov5n_800imgs_100E_best.pt\"\n",
    "model_remote_path = f\"courses/mooc/objdet/data/nn_models/{model_name}.pt\""
   ]
  },
  {
   "cell_type": "code",
   "execution_count": 16,
   "metadata": {},
   "outputs": [],
   "source": [
    "# path = os.getcwd()\n",
    "# print(path)\n",
    "filename = \"../../assets/DT_TOKEN\"\n",
    "file = open(filename, \"r\")\n",
    "\n",
    "with open(filename, \"r\") as f:\n",
    "    YOUR_DT_TOKEN = file.read().rstrip()    "
   ]
  },
  {
   "cell_type": "code",
   "execution_count": 17,
   "metadata": {},
   "outputs": [],
   "source": [
    "# open a pointer to our personal duckietown cloud space\n",
    "client = DataClient(YOUR_DT_TOKEN)\n",
    "storage = client.storage(\"user\")"
   ]
  },
  {
   "cell_type": "code",
   "execution_count": 18,
   "metadata": {},
   "outputs": [],
   "source": [
    "# upload model\n",
    "upload = storage.upload(model_local_path, model_remote_path)\n",
    "upload.join()\n"
   ]
  }
 ],
 "metadata": {
  "kernelspec": {
   "display_name": "Python 3.8.10 64-bit",
   "language": "python",
   "name": "python3"
  },
  "language_info": {
   "codemirror_mode": {
    "name": "ipython",
    "version": 3
   },
   "file_extension": ".py",
   "mimetype": "text/x-python",
   "name": "python",
   "nbconvert_exporter": "python",
   "pygments_lexer": "ipython3",
   "version": "3.8.18"
  },
  "vscode": {
   "interpreter": {
    "hash": "916dbcbb3f70747c44a77c7bcd40155683ae19c65e1c03b4aa3499c5328201f1"
   }
  }
 },
 "nbformat": 4,
 "nbformat_minor": 2
}
